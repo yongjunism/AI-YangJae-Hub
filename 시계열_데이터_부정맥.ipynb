{
  "cells": [
    {
      "cell_type": "markdown",
      "metadata": {
        "id": "xciNmeZcYzPU"
      },
      "source": [
        "# 부정맥 (잘못된 리듬) on 심전도"
      ]
    },
    {
      "cell_type": "code",
      "execution_count": 1,
      "metadata": {
        "id": "N2fOzsfm5lXj",
        "colab": {
          "base_uri": "https://localhost:8080/"
        },
        "outputId": "447e7a97-9798-4eb4-d8b4-f1bb1f5c42d1"
      },
      "outputs": [
        {
          "output_type": "stream",
          "name": "stdout",
          "text": [
            "Mounted at /content/gdrive/\n"
          ]
        }
      ],
      "source": [
        "# todo: 구글드라이브를 google.colab으로부터 연동해주세요\n",
        "from google.colab import drive\n",
        "drive.mount('/content/gdrive/')"
      ]
    },
    {
      "cell_type": "code",
      "execution_count": 2,
      "metadata": {
        "id": "WPzJ_7j26RoO",
        "colab": {
          "base_uri": "https://localhost:8080/"
        },
        "outputId": "f2caf0be-2dde-4005-8f51-18a5c2b8a317"
      },
      "outputs": [
        {
          "output_type": "execute_result",
          "data": {
            "text/plain": [
              "list"
            ]
          },
          "metadata": {},
          "execution_count": 2
        }
      ],
      "source": [
        "# todo: 파일 경로를 확인하고, 뿌리경로 라는 이름의 주머니에 타이핑하여 지정해주세요\n",
        "path_root = '/content/gdrive/MyDrive/proj/ecg/kaggle-mitbih'\n",
        "\n",
        "# todo: 지정한 경로로 cd (change directory)\n",
        "!cd /content/gdrive/MyDrive/proj/ecg/kaggle-mitbih\n",
        "\n",
        "# todo: os를 import 하고 dir 정보를 list로 받아보세요\n",
        "import os\n",
        "type(os.listdir())"
      ]
    },
    {
      "cell_type": "markdown",
      "metadata": {
        "id": "_idhu9lNzijA"
      },
      "source": [
        "**INTRODUCTION**"
      ]
    },
    {
      "cell_type": "markdown",
      "metadata": {
        "id": "nJEimkJpzijA"
      },
      "source": [
        "심전도에서의 부정맥을 예측하고자 합니다.   \n",
        "우리는 두 개의 서로 다른 데이터 세트가 있지만,   \n",
        "\n",
        "mitbih. MIT-BIH 부정맥 데이터베이스에는 1975년과 1979년 사이에 BIH 부정맥 연구소에서 연구한 47명의 피험자로부터 얻은 2채널 보행 심전도 기록의 48시간 30분 발췌본이 포함되어 있습니다.  \n",
        "\n",
        "  \n",
        "보스턴의 베스 이스라엘 병원의 입원 환자(약 60%)와 외래 환자(약 40%)의 혼합 인구로부터 수집된 4000개의 24시간 보행 심전도 기록 세트에서 23개의 기록이 무작위로 선택되었다. \n",
        "\n",
        "\n",
        "데이터 수: 47명의 피험간  \n",
        "측정 방식: 2채널 ECG  \n",
        "데이터 형식: 4000개  \n",
        "\n",
        "    \n",
        "나머지 25개의 기록은 임상적으로 유의한 부정맥을 포함하기 위해 동일한 세트에서 선택. \n",
        "  \n",
        "출처: https://physionet.org/content/mitdb/1.0.0/\n",
        "\n",
        "\n",
        "\n",
        "48 half-hour excerpts of two-channel ambulatory ECG recordings,  \n",
        "obtained from 47 subjects studied by the BIH Arrhythmia Laboratory between 1975 and 1979.  \n",
        "\n",
        "Twenty-three recordings were chosen at random from a set of 4000 24-hour ambulatory ECG recordings collected \n",
        "from a mixed population of inpatients (about 60%) and outpatients (about 40%) \n",
        "\n",
        "at Boston's Beth Israel Hospital; \n",
        "\n",
        "the remaining 25 recordings were selected from the same set \n",
        "\n",
        "Arrhythmia Dataset\n",
        "\n",
        "    Number of Samples: 109446\n",
        "    Number of Categories: 5\n",
        "    Sampling Frequency: 125Hz\n",
        "    Data Source: Physionet's MIT-BIH Arrhythmia Dataset\n",
        "    Classes: ['N': 0, 'S': 1, 'V': 2, 'F': 3, 'Q': 4]\n",
        "\n",
        "-N : Normal 비트(정상 비트)\n",
        "-S : 초심실외박동\n",
        "-V : 심실외박동\n",
        "-F : 퓨전 비트\n",
        "-Q : 알 수없는 비트\n",
        "\n",
        "-N : Non-ecotic beats (normal beat)\n",
        "-S : Supraventricular ectopic beats\n",
        "-V : Ventricular ectopic beats\n",
        "-F : Fusion Beats\n",
        "-Q : Unknown Beats"
      ]
    },
    {
      "cell_type": "markdown",
      "metadata": {
        "id": "Ba7W3HlGzijB"
      },
      "source": [
        "**What is an ecg? **"
      ]
    },
    {
      "cell_type": "markdown",
      "metadata": {
        "id": "87IIsfYRzijC"
      },
      "source": [
        "심전도(ECG)는 심장의 박동과 전기 활동을 확인하는 데 사용될 수 있는 간단한 검사이다.\n",
        "\n",
        "피부에 부착된 센서는 심장이 뛸 때마다 발생하는 전기 신호를 감지하는 데 사용됩니다.\n",
        "\n",
        "이 신호들은 기계에 의해 기록되고 의사는 그것들이 특이한지 보기 위해 살펴봅니다.\n",
        "\n",
        "심전도 검사는 심장 전문의(심장 전문의) 또는 GP를 포함하여 심장에 문제가 있을 수 있다고 생각하는 의사가 요청할 수 있습니다. 이것이 우리가 분석할 이 테스트의 결과입니다.\n",
        "\n",
        "An electrocardiogram (ECG) may be requested by a heart specialist (cardiologist) or any doctor who thinks you might have a problem with your heart, including your GP."
      ]
    },
    {
      "cell_type": "markdown",
      "metadata": {
        "id": "a_S1GQjtzijC"
      },
      "source": [
        "**Load Data**"
      ]
    },
    {
      "cell_type": "code",
      "execution_count": 3,
      "metadata": {
        "id": "QaoPPFY8nhY5"
      },
      "outputs": [],
      "source": [
        "# todo: os를 불러오고 os에서 걸어다니며 가져올 대상은 (path_root)\n",
        "# filenames 확인"
      ]
    },
    {
      "cell_type": "code",
      "source": [
        "path_dirfile_all = []\n",
        "for dirname, _, filenames in os.walk(path_root):\n",
        "  for filename in filenames:\n",
        "    path_dirfile_all.append(os.path.join(dirname, filename))"
      ],
      "metadata": {
        "id": "bPXOBqDI7WXa"
      },
      "execution_count": 4,
      "outputs": []
    },
    {
      "cell_type": "code",
      "execution_count": 5,
      "metadata": {
        "_cell_guid": "79c7e3d0-c299-4dcb-8224-4455121ee9b0",
        "_uuid": "d629ff2d2480ee46fbb7e2d37f6b5fab8052498a",
        "id": "76ARrv9CzijE"
      },
      "outputs": [],
      "source": [
        "import numpy as np\n",
        "import pandas as pd\n",
        "import seaborn as sns\n",
        "import matplotlib.pyplot as plt\n",
        "from sklearn.metrics import classification_report\n",
        "from sklearn.model_selection import train_test_split\n",
        "from sklearn.metrics import f1_score\n",
        "from sklearn.metrics import confusion_matrix\n",
        "from keras.utils.np_utils import to_categorical\n",
        "from sklearn.utils import class_weight\n",
        "import warnings\n",
        "warnings.filterwarnings('ignore')"
      ]
    },
    {
      "cell_type": "code",
      "execution_count": 6,
      "metadata": {
        "id": "NViQe3T3sStw"
      },
      "outputs": [],
      "source": [
        "# todo: path 전체에 대하여 idx_path가 for문으로 관찰읽어오기\n",
        "# 만약 파일명에 'train'이 있으면 train_df에 읽어오기\n",
        "# 또, 만약 파일명에 'test'가 있으면 test_df에 읽어오기"
      ]
    },
    {
      "cell_type": "code",
      "execution_count": 7,
      "metadata": {
        "id": "64QM3F33T-Dm",
        "colab": {
          "base_uri": "https://localhost:8080/"
        },
        "outputId": "0197ce60-ab33-4458-abac-313c414a6674"
      },
      "outputs": [
        {
          "output_type": "stream",
          "name": "stdout",
          "text": [
            "path_dirfile_all[idx_path] /content/gdrive/MyDrive/proj/ecg/kaggle-mitbih/mitbih_train.csv\n"
          ]
        }
      ],
      "source": [
        "for idx_path in range(len(path_dirfile_all)):\n",
        "  if 'train' in path_dirfile_all[idx_path]:\n",
        "    train_df = pd.read_csv(path_dirfile_all[idx_path], header=None)\n",
        "    print('path_dirfile_all[idx_path]', path_dirfile_all[idx_path])\n",
        "  elif 'test' in path_dirfile_all[idx_path]:\n",
        "    test_df = pd.read_csv(path_dirfile_all[idx_path], header=None)"
      ]
    },
    {
      "cell_type": "markdown",
      "metadata": {
        "id": "88QfLchTzijF"
      },
      "source": [
        "**Balance of dataset**"
      ]
    },
    {
      "cell_type": "code",
      "execution_count": 8,
      "metadata": {
        "id": "NNX0hoXDsrGd",
        "colab": {
          "base_uri": "https://localhost:8080/",
          "height": 390
        },
        "outputId": "cbe84778-2825-492d-d24f-382391af7ce2"
      },
      "outputs": [
        {
          "output_type": "execute_result",
          "data": {
            "text/plain": [
              "                0             1             2             3             4    \\\n",
              "count  87554.000000  87554.000000  87554.000000  87554.000000  87554.000000   \n",
              "mean       0.890360      0.758160      0.423972      0.219104      0.201127   \n",
              "std        0.240909      0.221813      0.227305      0.206878      0.177058   \n",
              "min        0.000000      0.000000      0.000000      0.000000      0.000000   \n",
              "25%        0.921922      0.682486      0.250969      0.048458      0.082329   \n",
              "50%        0.991342      0.826013      0.429472      0.166000      0.147878   \n",
              "75%        1.000000      0.910506      0.578767      0.341727      0.258993   \n",
              "max        1.000000      1.000000      1.000000      1.000000      1.000000   \n",
              "\n",
              "                5             6             7             8             9    \\\n",
              "count  87554.000000  87554.000000  87554.000000  87554.000000  87554.000000   \n",
              "mean       0.210399      0.205808      0.201773      0.198691      0.196757   \n",
              "std        0.171909      0.178481      0.177240      0.171778      0.168357   \n",
              "min        0.000000      0.000000      0.000000      0.000000      0.000000   \n",
              "25%        0.088416      0.073333      0.066116      0.065000      0.068639   \n",
              "50%        0.158798      0.145324      0.144424      0.150000      0.148734   \n",
              "75%        0.287628      0.298237      0.295391      0.290832      0.283636   \n",
              "max        1.000000      1.000000      1.000000      1.000000      1.000000   \n",
              "\n",
              "       ...           178           179           180           181  \\\n",
              "count  ...  87554.000000  87554.000000  87554.000000  87554.000000   \n",
              "mean   ...      0.005025      0.004628      0.004291      0.003945   \n",
              "std    ...      0.044154      0.042089      0.040525      0.038651   \n",
              "min    ...      0.000000      0.000000      0.000000      0.000000   \n",
              "25%    ...      0.000000      0.000000      0.000000      0.000000   \n",
              "50%    ...      0.000000      0.000000      0.000000      0.000000   \n",
              "75%    ...      0.000000      0.000000      0.000000      0.000000   \n",
              "max    ...      1.000000      1.000000      1.000000      1.000000   \n",
              "\n",
              "                182           183           184           185           186  \\\n",
              "count  87554.000000  87554.000000  87554.000000  87554.000000  87554.000000   \n",
              "mean       0.003681      0.003471      0.003221      0.002945      0.002807   \n",
              "std        0.037193      0.036255      0.034789      0.032865      0.031924   \n",
              "min        0.000000      0.000000      0.000000      0.000000      0.000000   \n",
              "25%        0.000000      0.000000      0.000000      0.000000      0.000000   \n",
              "50%        0.000000      0.000000      0.000000      0.000000      0.000000   \n",
              "75%        0.000000      0.000000      0.000000      0.000000      0.000000   \n",
              "max        1.000000      1.000000      1.000000      1.000000      1.000000   \n",
              "\n",
              "                187  \n",
              "count  87554.000000  \n",
              "mean       0.473376  \n",
              "std        1.143184  \n",
              "min        0.000000  \n",
              "25%        0.000000  \n",
              "50%        0.000000  \n",
              "75%        0.000000  \n",
              "max        4.000000  \n",
              "\n",
              "[8 rows x 188 columns]"
            ],
            "text/html": [
              "\n",
              "  <div id=\"df-227c3df6-b2d1-4503-91c5-3d6a3782f150\">\n",
              "    <div class=\"colab-df-container\">\n",
              "      <div>\n",
              "<style scoped>\n",
              "    .dataframe tbody tr th:only-of-type {\n",
              "        vertical-align: middle;\n",
              "    }\n",
              "\n",
              "    .dataframe tbody tr th {\n",
              "        vertical-align: top;\n",
              "    }\n",
              "\n",
              "    .dataframe thead th {\n",
              "        text-align: right;\n",
              "    }\n",
              "</style>\n",
              "<table border=\"1\" class=\"dataframe\">\n",
              "  <thead>\n",
              "    <tr style=\"text-align: right;\">\n",
              "      <th></th>\n",
              "      <th>0</th>\n",
              "      <th>1</th>\n",
              "      <th>2</th>\n",
              "      <th>3</th>\n",
              "      <th>4</th>\n",
              "      <th>5</th>\n",
              "      <th>6</th>\n",
              "      <th>7</th>\n",
              "      <th>8</th>\n",
              "      <th>9</th>\n",
              "      <th>...</th>\n",
              "      <th>178</th>\n",
              "      <th>179</th>\n",
              "      <th>180</th>\n",
              "      <th>181</th>\n",
              "      <th>182</th>\n",
              "      <th>183</th>\n",
              "      <th>184</th>\n",
              "      <th>185</th>\n",
              "      <th>186</th>\n",
              "      <th>187</th>\n",
              "    </tr>\n",
              "  </thead>\n",
              "  <tbody>\n",
              "    <tr>\n",
              "      <th>count</th>\n",
              "      <td>87554.000000</td>\n",
              "      <td>87554.000000</td>\n",
              "      <td>87554.000000</td>\n",
              "      <td>87554.000000</td>\n",
              "      <td>87554.000000</td>\n",
              "      <td>87554.000000</td>\n",
              "      <td>87554.000000</td>\n",
              "      <td>87554.000000</td>\n",
              "      <td>87554.000000</td>\n",
              "      <td>87554.000000</td>\n",
              "      <td>...</td>\n",
              "      <td>87554.000000</td>\n",
              "      <td>87554.000000</td>\n",
              "      <td>87554.000000</td>\n",
              "      <td>87554.000000</td>\n",
              "      <td>87554.000000</td>\n",
              "      <td>87554.000000</td>\n",
              "      <td>87554.000000</td>\n",
              "      <td>87554.000000</td>\n",
              "      <td>87554.000000</td>\n",
              "      <td>87554.000000</td>\n",
              "    </tr>\n",
              "    <tr>\n",
              "      <th>mean</th>\n",
              "      <td>0.890360</td>\n",
              "      <td>0.758160</td>\n",
              "      <td>0.423972</td>\n",
              "      <td>0.219104</td>\n",
              "      <td>0.201127</td>\n",
              "      <td>0.210399</td>\n",
              "      <td>0.205808</td>\n",
              "      <td>0.201773</td>\n",
              "      <td>0.198691</td>\n",
              "      <td>0.196757</td>\n",
              "      <td>...</td>\n",
              "      <td>0.005025</td>\n",
              "      <td>0.004628</td>\n",
              "      <td>0.004291</td>\n",
              "      <td>0.003945</td>\n",
              "      <td>0.003681</td>\n",
              "      <td>0.003471</td>\n",
              "      <td>0.003221</td>\n",
              "      <td>0.002945</td>\n",
              "      <td>0.002807</td>\n",
              "      <td>0.473376</td>\n",
              "    </tr>\n",
              "    <tr>\n",
              "      <th>std</th>\n",
              "      <td>0.240909</td>\n",
              "      <td>0.221813</td>\n",
              "      <td>0.227305</td>\n",
              "      <td>0.206878</td>\n",
              "      <td>0.177058</td>\n",
              "      <td>0.171909</td>\n",
              "      <td>0.178481</td>\n",
              "      <td>0.177240</td>\n",
              "      <td>0.171778</td>\n",
              "      <td>0.168357</td>\n",
              "      <td>...</td>\n",
              "      <td>0.044154</td>\n",
              "      <td>0.042089</td>\n",
              "      <td>0.040525</td>\n",
              "      <td>0.038651</td>\n",
              "      <td>0.037193</td>\n",
              "      <td>0.036255</td>\n",
              "      <td>0.034789</td>\n",
              "      <td>0.032865</td>\n",
              "      <td>0.031924</td>\n",
              "      <td>1.143184</td>\n",
              "    </tr>\n",
              "    <tr>\n",
              "      <th>min</th>\n",
              "      <td>0.000000</td>\n",
              "      <td>0.000000</td>\n",
              "      <td>0.000000</td>\n",
              "      <td>0.000000</td>\n",
              "      <td>0.000000</td>\n",
              "      <td>0.000000</td>\n",
              "      <td>0.000000</td>\n",
              "      <td>0.000000</td>\n",
              "      <td>0.000000</td>\n",
              "      <td>0.000000</td>\n",
              "      <td>...</td>\n",
              "      <td>0.000000</td>\n",
              "      <td>0.000000</td>\n",
              "      <td>0.000000</td>\n",
              "      <td>0.000000</td>\n",
              "      <td>0.000000</td>\n",
              "      <td>0.000000</td>\n",
              "      <td>0.000000</td>\n",
              "      <td>0.000000</td>\n",
              "      <td>0.000000</td>\n",
              "      <td>0.000000</td>\n",
              "    </tr>\n",
              "    <tr>\n",
              "      <th>25%</th>\n",
              "      <td>0.921922</td>\n",
              "      <td>0.682486</td>\n",
              "      <td>0.250969</td>\n",
              "      <td>0.048458</td>\n",
              "      <td>0.082329</td>\n",
              "      <td>0.088416</td>\n",
              "      <td>0.073333</td>\n",
              "      <td>0.066116</td>\n",
              "      <td>0.065000</td>\n",
              "      <td>0.068639</td>\n",
              "      <td>...</td>\n",
              "      <td>0.000000</td>\n",
              "      <td>0.000000</td>\n",
              "      <td>0.000000</td>\n",
              "      <td>0.000000</td>\n",
              "      <td>0.000000</td>\n",
              "      <td>0.000000</td>\n",
              "      <td>0.000000</td>\n",
              "      <td>0.000000</td>\n",
              "      <td>0.000000</td>\n",
              "      <td>0.000000</td>\n",
              "    </tr>\n",
              "    <tr>\n",
              "      <th>50%</th>\n",
              "      <td>0.991342</td>\n",
              "      <td>0.826013</td>\n",
              "      <td>0.429472</td>\n",
              "      <td>0.166000</td>\n",
              "      <td>0.147878</td>\n",
              "      <td>0.158798</td>\n",
              "      <td>0.145324</td>\n",
              "      <td>0.144424</td>\n",
              "      <td>0.150000</td>\n",
              "      <td>0.148734</td>\n",
              "      <td>...</td>\n",
              "      <td>0.000000</td>\n",
              "      <td>0.000000</td>\n",
              "      <td>0.000000</td>\n",
              "      <td>0.000000</td>\n",
              "      <td>0.000000</td>\n",
              "      <td>0.000000</td>\n",
              "      <td>0.000000</td>\n",
              "      <td>0.000000</td>\n",
              "      <td>0.000000</td>\n",
              "      <td>0.000000</td>\n",
              "    </tr>\n",
              "    <tr>\n",
              "      <th>75%</th>\n",
              "      <td>1.000000</td>\n",
              "      <td>0.910506</td>\n",
              "      <td>0.578767</td>\n",
              "      <td>0.341727</td>\n",
              "      <td>0.258993</td>\n",
              "      <td>0.287628</td>\n",
              "      <td>0.298237</td>\n",
              "      <td>0.295391</td>\n",
              "      <td>0.290832</td>\n",
              "      <td>0.283636</td>\n",
              "      <td>...</td>\n",
              "      <td>0.000000</td>\n",
              "      <td>0.000000</td>\n",
              "      <td>0.000000</td>\n",
              "      <td>0.000000</td>\n",
              "      <td>0.000000</td>\n",
              "      <td>0.000000</td>\n",
              "      <td>0.000000</td>\n",
              "      <td>0.000000</td>\n",
              "      <td>0.000000</td>\n",
              "      <td>0.000000</td>\n",
              "    </tr>\n",
              "    <tr>\n",
              "      <th>max</th>\n",
              "      <td>1.000000</td>\n",
              "      <td>1.000000</td>\n",
              "      <td>1.000000</td>\n",
              "      <td>1.000000</td>\n",
              "      <td>1.000000</td>\n",
              "      <td>1.000000</td>\n",
              "      <td>1.000000</td>\n",
              "      <td>1.000000</td>\n",
              "      <td>1.000000</td>\n",
              "      <td>1.000000</td>\n",
              "      <td>...</td>\n",
              "      <td>1.000000</td>\n",
              "      <td>1.000000</td>\n",
              "      <td>1.000000</td>\n",
              "      <td>1.000000</td>\n",
              "      <td>1.000000</td>\n",
              "      <td>1.000000</td>\n",
              "      <td>1.000000</td>\n",
              "      <td>1.000000</td>\n",
              "      <td>1.000000</td>\n",
              "      <td>4.000000</td>\n",
              "    </tr>\n",
              "  </tbody>\n",
              "</table>\n",
              "<p>8 rows × 188 columns</p>\n",
              "</div>\n",
              "      <button class=\"colab-df-convert\" onclick=\"convertToInteractive('df-227c3df6-b2d1-4503-91c5-3d6a3782f150')\"\n",
              "              title=\"Convert this dataframe to an interactive table.\"\n",
              "              style=\"display:none;\">\n",
              "        \n",
              "  <svg xmlns=\"http://www.w3.org/2000/svg\" height=\"24px\"viewBox=\"0 0 24 24\"\n",
              "       width=\"24px\">\n",
              "    <path d=\"M0 0h24v24H0V0z\" fill=\"none\"/>\n",
              "    <path d=\"M18.56 5.44l.94 2.06.94-2.06 2.06-.94-2.06-.94-.94-2.06-.94 2.06-2.06.94zm-11 1L8.5 8.5l.94-2.06 2.06-.94-2.06-.94L8.5 2.5l-.94 2.06-2.06.94zm10 10l.94 2.06.94-2.06 2.06-.94-2.06-.94-.94-2.06-.94 2.06-2.06.94z\"/><path d=\"M17.41 7.96l-1.37-1.37c-.4-.4-.92-.59-1.43-.59-.52 0-1.04.2-1.43.59L10.3 9.45l-7.72 7.72c-.78.78-.78 2.05 0 2.83L4 21.41c.39.39.9.59 1.41.59.51 0 1.02-.2 1.41-.59l7.78-7.78 2.81-2.81c.8-.78.8-2.07 0-2.86zM5.41 20L4 18.59l7.72-7.72 1.47 1.35L5.41 20z\"/>\n",
              "  </svg>\n",
              "      </button>\n",
              "      \n",
              "  <style>\n",
              "    .colab-df-container {\n",
              "      display:flex;\n",
              "      flex-wrap:wrap;\n",
              "      gap: 12px;\n",
              "    }\n",
              "\n",
              "    .colab-df-convert {\n",
              "      background-color: #E8F0FE;\n",
              "      border: none;\n",
              "      border-radius: 50%;\n",
              "      cursor: pointer;\n",
              "      display: none;\n",
              "      fill: #1967D2;\n",
              "      height: 32px;\n",
              "      padding: 0 0 0 0;\n",
              "      width: 32px;\n",
              "    }\n",
              "\n",
              "    .colab-df-convert:hover {\n",
              "      background-color: #E2EBFA;\n",
              "      box-shadow: 0px 1px 2px rgba(60, 64, 67, 0.3), 0px 1px 3px 1px rgba(60, 64, 67, 0.15);\n",
              "      fill: #174EA6;\n",
              "    }\n",
              "\n",
              "    [theme=dark] .colab-df-convert {\n",
              "      background-color: #3B4455;\n",
              "      fill: #D2E3FC;\n",
              "    }\n",
              "\n",
              "    [theme=dark] .colab-df-convert:hover {\n",
              "      background-color: #434B5C;\n",
              "      box-shadow: 0px 1px 3px 1px rgba(0, 0, 0, 0.15);\n",
              "      filter: drop-shadow(0px 1px 2px rgba(0, 0, 0, 0.3));\n",
              "      fill: #FFFFFF;\n",
              "    }\n",
              "  </style>\n",
              "\n",
              "      <script>\n",
              "        const buttonEl =\n",
              "          document.querySelector('#df-227c3df6-b2d1-4503-91c5-3d6a3782f150 button.colab-df-convert');\n",
              "        buttonEl.style.display =\n",
              "          google.colab.kernel.accessAllowed ? 'block' : 'none';\n",
              "\n",
              "        async function convertToInteractive(key) {\n",
              "          const element = document.querySelector('#df-227c3df6-b2d1-4503-91c5-3d6a3782f150');\n",
              "          const dataTable =\n",
              "            await google.colab.kernel.invokeFunction('convertToInteractive',\n",
              "                                                     [key], {});\n",
              "          if (!dataTable) return;\n",
              "\n",
              "          const docLinkHtml = 'Like what you see? Visit the ' +\n",
              "            '<a target=\"_blank\" href=https://colab.research.google.com/notebooks/data_table.ipynb>data table notebook</a>'\n",
              "            + ' to learn more about interactive tables.';\n",
              "          element.innerHTML = '';\n",
              "          dataTable['output_type'] = 'display_data';\n",
              "          await google.colab.output.renderOutput(dataTable, element);\n",
              "          const docLink = document.createElement('div');\n",
              "          docLink.innerHTML = docLinkHtml;\n",
              "          element.appendChild(docLink);\n",
              "        }\n",
              "      </script>\n",
              "    </div>\n",
              "  </div>\n",
              "  "
            ]
          },
          "metadata": {},
          "execution_count": 8
        }
      ],
      "source": [
        "train_df.describe()"
      ]
    },
    {
      "cell_type": "code",
      "execution_count": 9,
      "metadata": {
        "id": "jAutMr_Ts95n"
      },
      "outputs": [],
      "source": [
        "# train_df[187]은 레이블입니다. 0-4 \n",
        "\n",
        "# todo:\n",
        "# 레이블을 int형으로 타입을 변경하여 다시 원래 자리에 넣어주세요\n",
        "# equilibre에 각 레이블의 값_숫자를 세어 기록해주세요"
      ]
    },
    {
      "cell_type": "code",
      "execution_count": 10,
      "metadata": {
        "id": "q06-ArOeT9OE",
        "colab": {
          "base_uri": "https://localhost:8080/"
        },
        "outputId": "de583cf1-1af0-48b4-d435-5d23bc33f301"
      },
      "outputs": [
        {
          "output_type": "stream",
          "name": "stdout",
          "text": [
            "0    72471\n",
            "4     6431\n",
            "2     5788\n",
            "1     2223\n",
            "3      641\n",
            "Name: 187, dtype: int64\n"
          ]
        }
      ],
      "source": [
        "train_df[187] = train_df[187].astype(int)\n",
        "equilibre = train_df[187].value_counts()\n",
        "print(equilibre)"
      ]
    },
    {
      "cell_type": "code",
      "execution_count": 11,
      "metadata": {
        "id": "74ZnXv-8vyH2"
      },
      "outputs": [],
      "source": [
        "# circle pie 그리기"
      ]
    },
    {
      "cell_type": "code",
      "execution_count": 12,
      "metadata": {
        "id": "YjeCglGWwO9d",
        "colab": {
          "base_uri": "https://localhost:8080/",
          "height": 575
        },
        "outputId": "279a149c-90e8-463c-92b5-f81340b46c46"
      },
      "outputs": [
        {
          "output_type": "display_data",
          "data": {
            "text/plain": [
              "<Figure size 1440x720 with 1 Axes>"
            ],
            "image/png": "[encoded data removed]"
          },
          "metadata": {}
        }
      ],
      "source": [
        "plt.figure(figsize=(20,10))\n",
        "plt.pie(equilibre, labels=['n','q','v','s','f'], colors=['red','green','blue','skyblue','orange'],autopct='%1.1f%%')\n",
        "plt.show()"
      ]
    },
    {
      "cell_type": "code",
      "execution_count": 13,
      "metadata": {
        "id": "C0bQ7kqgzijG",
        "colab": {
          "base_uri": "https://localhost:8080/",
          "height": 592
        },
        "outputId": "380a9616-a2e4-4315-f591-d4883d919890"
      },
      "outputs": [
        {
          "output_type": "execute_result",
          "data": {
            "text/plain": [
              "<matplotlib.patches.Circle at 0x7fa67b455a90>"
            ]
          },
          "metadata": {},
          "execution_count": 13
        },
        {
          "output_type": "display_data",
          "data": {
            "text/plain": [
              "<Figure size 1440x720 with 1 Axes>"
            ],
            "image/png": "[encoded data removed]"
          },
          "metadata": {}
        }
      ],
      "source": [
        "plt.figure(figsize=(20,10))\n",
        "my_circle=plt.Circle( (0,0), 0.7, color='white')\n",
        "plt.pie(equilibre, labels=['n','q','v','s','f'], colors=['red','green','blue','skyblue','orange'],autopct='%1.1f%%')\n",
        "p=plt.gcf()\n",
        "p.gca().add_artist(my_circle)\n",
        "#plt.show()"
      ]
    },
    {
      "cell_type": "markdown",
      "metadata": {
        "id": "oAS2BVh0zijG"
      },
      "source": [
        "클래스 가중치보다 리샘플 기법을 더 선택하기로 결정\n",
        "decided to choose the resample technique"
      ]
    },
    {
      "cell_type": "code",
      "execution_count": 14,
      "metadata": {
        "id": "lDRzTETwx_u0"
      },
      "outputs": [],
      "source": [
        "# todo: train_df[187]==0 인 인덱스에 대하여 샘플링을 n=20000, random_state=상수 (레이블마다 다르게) 진행\n",
        "# 나머지 부족한 레이블에 대해서도, n=20000이 되도록 리샘플링 (= 숫자가 부족했으니, 추가되도록 업샘플링이라는 주머니 이름)"
      ]
    },
    {
      "cell_type": "code",
      "execution_count": 15,
      "metadata": {
        "id": "cM_KnccozijH"
      },
      "outputs": [],
      "source": [
        "from sklearn.utils import resample\n",
        "\n",
        "df_0 = train_df[train_df[187]==0].sample(n=20000, random_state=42)\n",
        "df_1 = train_df[train_df[187]==1]\n",
        "df_2 = train_df[train_df[187]==2]\n",
        "df_3 = train_df[train_df[187]==3]\n",
        "df_4 = train_df[train_df[187]==4]\n",
        "\n",
        "df_1_upsample = resample(df_1, replace=True, n_samples=20000, random_state=123)\n",
        "df_2_upsample = resample(df_2, replace=True, n_samples=20000, random_state=124)\n",
        "df_3_upsample = resample(df_3, replace=True, n_samples=20000, random_state=125)\n",
        "df_4_upsample = resample(df_4, replace=True, n_samples=20000, random_state=126)\n",
        "\n",
        "train_df = pd.concat([df_0, df_1_upsample, df_2_upsample, df_3_upsample, df_4_upsample])"
      ]
    },
    {
      "cell_type": "code",
      "execution_count": 16,
      "metadata": {
        "id": "dnTfej09zijH",
        "colab": {
          "base_uri": "https://localhost:8080/"
        },
        "outputId": "ae47b6e0-ecdf-49e7-bfb9-7a16ba5595de"
      },
      "outputs": [
        {
          "output_type": "stream",
          "name": "stdout",
          "text": [
            "0    20000\n",
            "1    20000\n",
            "2    20000\n",
            "3    20000\n",
            "4    20000\n",
            "Name: 187, dtype: int64\n"
          ]
        }
      ],
      "source": [
        "equilibre=train_df[187].value_counts()\n",
        "print(equilibre)"
      ]
    },
    {
      "cell_type": "code",
      "execution_count": 17,
      "metadata": {
        "id": "9BBTBlgwzijH",
        "colab": {
          "base_uri": "https://localhost:8080/",
          "height": 575
        },
        "outputId": "b1ba7036-4133-4450-d390-baacc03a200d"
      },
      "outputs": [
        {
          "output_type": "display_data",
          "data": {
            "text/plain": [
              "<Figure size 1440x720 with 1 Axes>"
            ],
            "image/png": "[encoded data removed]"
          },
          "metadata": {}
        }
      ],
      "source": [
        "plt.figure(figsize=(20,10))\n",
        "my_circle=plt.Circle( (0,0), 0.7, color='white')\n",
        "plt.pie(equilibre, labels=['n','q','v','s','f'], colors=['red','green','blue','skyblue','orange'],autopct='%1.1f%%')\n",
        "p=plt.gcf()\n",
        "p.gca().add_artist(my_circle)\n",
        "plt.show()"
      ]
    },
    {
      "cell_type": "markdown",
      "metadata": {
        "id": "DKgZLIZxzijI"
      },
      "source": [
        "Resample works perfectly we can go on. "
      ]
    },
    {
      "cell_type": "markdown",
      "metadata": {
        "id": "_sHh8RaozijI"
      },
      "source": [
        "**Classes**"
      ]
    },
    {
      "cell_type": "code",
      "execution_count": 18,
      "metadata": {
        "id": "WRYIG6bKzijI",
        "colab": {
          "base_uri": "https://localhost:8080/",
          "height": 233
        },
        "outputId": "26cc2b67-8157-4c78-8109-7da30cde4f17"
      },
      "outputs": [
        {
          "output_type": "execute_result",
          "data": {
            "text/plain": [
              "            0         1         2         3         4         5         6    \\\n",
              "14290  0.965665  0.545064  0.072961  0.090129  0.133047  0.085837  0.064378   \n",
              "72485  1.000000  0.903226  0.318548  0.108871  0.169355  0.254032  0.229839   \n",
              "80366  0.922607  0.881874  0.576375  0.289206  0.189409  0.173116  0.136456   \n",
              "80599  0.878229  1.000000  0.940959  0.501845  0.260148  0.171587  0.143911   \n",
              "85205  0.843750  0.430556  0.468750  0.465278  0.486111  0.486111  0.524306   \n",
              "\n",
              "            7         8         9    ...  178  179  180  181  182  183  184  \\\n",
              "14290  0.055794  0.038627  0.030043  ...  0.0  0.0  0.0  0.0  0.0  0.0  0.0   \n",
              "72485  0.258065  0.334677  0.310484  ...  0.0  0.0  0.0  0.0  0.0  0.0  0.0   \n",
              "80366  0.132383  0.105906  0.109980  ...  0.0  0.0  0.0  0.0  0.0  0.0  0.0   \n",
              "80599  0.134686  0.108856  0.114391  ...  0.0  0.0  0.0  0.0  0.0  0.0  0.0   \n",
              "85205  0.486111  0.406250  0.277778  ...  0.0  0.0  0.0  0.0  0.0  0.0  0.0   \n",
              "\n",
              "       185  186  187  \n",
              "14290  0.0  0.0    0  \n",
              "72485  0.0  0.0    1  \n",
              "80366  0.0  0.0    2  \n",
              "80599  0.0  0.0    3  \n",
              "85205  0.0  0.0    4  \n",
              "\n",
              "[5 rows x 188 columns]"
            ],
            "text/html": [
              "\n",
              "  <div id=\"df-2687f121-6a35-4f25-a389-3ffdd5240c47\">\n",
              "    <div class=\"colab-df-container\">\n",
              "      <div>\n",
              "<style scoped>\n",
              "    .dataframe tbody tr th:only-of-type {\n",
              "        vertical-align: middle;\n",
              "    }\n",
              "\n",
              "    .dataframe tbody tr th {\n",
              "        vertical-align: top;\n",
              "    }\n",
              "\n",
              "    .dataframe thead th {\n",
              "        text-align: right;\n",
              "    }\n",
              "</style>\n",
              "<table border=\"1\" class=\"dataframe\">\n",
              "  <thead>\n",
              "    <tr style=\"text-align: right;\">\n",
              "      <th></th>\n",
              "      <th>0</th>\n",
              "      <th>1</th>\n",
              "      <th>2</th>\n",
              "      <th>3</th>\n",
              "      <th>4</th>\n",
              "      <th>5</th>\n",
              "      <th>6</th>\n",
              "      <th>7</th>\n",
              "      <th>8</th>\n",
              "      <th>9</th>\n",
              "      <th>...</th>\n",
              "      <th>178</th>\n",
              "      <th>179</th>\n",
              "      <th>180</th>\n",
              "      <th>181</th>\n",
              "      <th>182</th>\n",
              "      <th>183</th>\n",
              "      <th>184</th>\n",
              "      <th>185</th>\n",
              "      <th>186</th>\n",
              "      <th>187</th>\n",
              "    </tr>\n",
              "  </thead>\n",
              "  <tbody>\n",
              "    <tr>\n",
              "      <th>14290</th>\n",
              "      <td>0.965665</td>\n",
              "      <td>0.545064</td>\n",
              "      <td>0.072961</td>\n",
              "      <td>0.090129</td>\n",
              "      <td>0.133047</td>\n",
              "      <td>0.085837</td>\n",
              "      <td>0.064378</td>\n",
              "      <td>0.055794</td>\n",
              "      <td>0.038627</td>\n",
              "      <td>0.030043</td>\n",
              "      <td>...</td>\n",
              "      <td>0.0</td>\n",
              "      <td>0.0</td>\n",
              "      <td>0.0</td>\n",
              "      <td>0.0</td>\n",
              "      <td>0.0</td>\n",
              "      <td>0.0</td>\n",
              "      <td>0.0</td>\n",
              "      <td>0.0</td>\n",
              "      <td>0.0</td>\n",
              "      <td>0</td>\n",
              "    </tr>\n",
              "    <tr>\n",
              "      <th>72485</th>\n",
              "      <td>1.000000</td>\n",
              "      <td>0.903226</td>\n",
              "      <td>0.318548</td>\n",
              "      <td>0.108871</td>\n",
              "      <td>0.169355</td>\n",
              "      <td>0.254032</td>\n",
              "      <td>0.229839</td>\n",
              "      <td>0.258065</td>\n",
              "      <td>0.334677</td>\n",
              "      <td>0.310484</td>\n",
              "      <td>...</td>\n",
              "      <td>0.0</td>\n",
              "      <td>0.0</td>\n",
              "      <td>0.0</td>\n",
              "      <td>0.0</td>\n",
              "      <td>0.0</td>\n",
              "      <td>0.0</td>\n",
              "      <td>0.0</td>\n",
              "      <td>0.0</td>\n",
              "      <td>0.0</td>\n",
              "      <td>1</td>\n",
              "    </tr>\n",
              "    <tr>\n",
              "      <th>80366</th>\n",
              "      <td>0.922607</td>\n",
              "      <td>0.881874</td>\n",
              "      <td>0.576375</td>\n",
              "      <td>0.289206</td>\n",
              "      <td>0.189409</td>\n",
              "      <td>0.173116</td>\n",
              "      <td>0.136456</td>\n",
              "      <td>0.132383</td>\n",
              "      <td>0.105906</td>\n",
              "      <td>0.109980</td>\n",
              "      <td>...</td>\n",
              "      <td>0.0</td>\n",
              "      <td>0.0</td>\n",
              "      <td>0.0</td>\n",
              "      <td>0.0</td>\n",
              "      <td>0.0</td>\n",
              "      <td>0.0</td>\n",
              "      <td>0.0</td>\n",
              "      <td>0.0</td>\n",
              "      <td>0.0</td>\n",
              "      <td>2</td>\n",
              "    </tr>\n",
              "    <tr>\n",
              "      <th>80599</th>\n",
              "      <td>0.878229</td>\n",
              "      <td>1.000000</td>\n",
              "      <td>0.940959</td>\n",
              "      <td>0.501845</td>\n",
              "      <td>0.260148</td>\n",
              "      <td>0.171587</td>\n",
              "      <td>0.143911</td>\n",
              "      <td>0.134686</td>\n",
              "      <td>0.108856</td>\n",
              "      <td>0.114391</td>\n",
              "      <td>...</td>\n",
              "      <td>0.0</td>\n",
              "      <td>0.0</td>\n",
              "      <td>0.0</td>\n",
              "      <td>0.0</td>\n",
              "      <td>0.0</td>\n",
              "      <td>0.0</td>\n",
              "      <td>0.0</td>\n",
              "      <td>0.0</td>\n",
              "      <td>0.0</td>\n",
              "      <td>3</td>\n",
              "    </tr>\n",
              "    <tr>\n",
              "      <th>85205</th>\n",
              "      <td>0.843750</td>\n",
              "      <td>0.430556</td>\n",
              "      <td>0.468750</td>\n",
              "      <td>0.465278</td>\n",
              "      <td>0.486111</td>\n",
              "      <td>0.486111</td>\n",
              "      <td>0.524306</td>\n",
              "      <td>0.486111</td>\n",
              "      <td>0.406250</td>\n",
              "      <td>0.277778</td>\n",
              "      <td>...</td>\n",
              "      <td>0.0</td>\n",
              "      <td>0.0</td>\n",
              "      <td>0.0</td>\n",
              "      <td>0.0</td>\n",
              "      <td>0.0</td>\n",
              "      <td>0.0</td>\n",
              "      <td>0.0</td>\n",
              "      <td>0.0</td>\n",
              "      <td>0.0</td>\n",
              "      <td>4</td>\n",
              "    </tr>\n",
              "  </tbody>\n",
              "</table>\n",
              "<p>5 rows × 188 columns</p>\n",
              "</div>\n",
              "      <button class=\"colab-df-convert\" onclick=\"convertToInteractive('df-2687f121-6a35-4f25-a389-3ffdd5240c47')\"\n",
              "              title=\"Convert this dataframe to an interactive table.\"\n",
              "              style=\"display:none;\">\n",
              "        \n",
              "  <svg xmlns=\"http://www.w3.org/2000/svg\" height=\"24px\"viewBox=\"0 0 24 24\"\n",
              "       width=\"24px\">\n",
              "    <path d=\"M0 0h24v24H0V0z\" fill=\"none\"/>\n",
              "    <path d=\"M18.56 5.44l.94 2.06.94-2.06 2.06-.94-2.06-.94-.94-2.06-.94 2.06-2.06.94zm-11 1L8.5 8.5l.94-2.06 2.06-.94-2.06-.94L8.5 2.5l-.94 2.06-2.06.94zm10 10l.94 2.06.94-2.06 2.06-.94-2.06-.94-.94-2.06-.94 2.06-2.06.94z\"/><path d=\"M17.41 7.96l-1.37-1.37c-.4-.4-.92-.59-1.43-.59-.52 0-1.04.2-1.43.59L10.3 9.45l-7.72 7.72c-.78.78-.78 2.05 0 2.83L4 21.41c.39.39.9.59 1.41.59.51 0 1.02-.2 1.41-.59l7.78-7.78 2.81-2.81c.8-.78.8-2.07 0-2.86zM5.41 20L4 18.59l7.72-7.72 1.47 1.35L5.41 20z\"/>\n",
              "  </svg>\n",
              "      </button>\n",
              "      \n",
              "  <style>\n",
              "    .colab-df-container {\n",
              "      display:flex;\n",
              "      flex-wrap:wrap;\n",
              "      gap: 12px;\n",
              "    }\n",
              "\n",
              "    .colab-df-convert {\n",
              "      background-color: #E8F0FE;\n",
              "      border: none;\n",
              "      border-radius: 50%;\n",
              "      cursor: pointer;\n",
              "      display: none;\n",
              "      fill: #1967D2;\n",
              "      height: 32px;\n",
              "      padding: 0 0 0 0;\n",
              "      width: 32px;\n",
              "    }\n",
              "\n",
              "    .colab-df-convert:hover {\n",
              "      background-color: #E2EBFA;\n",
              "      box-shadow: 0px 1px 2px rgba(60, 64, 67, 0.3), 0px 1px 3px 1px rgba(60, 64, 67, 0.15);\n",
              "      fill: #174EA6;\n",
              "    }\n",
              "\n",
              "    [theme=dark] .colab-df-convert {\n",
              "      background-color: #3B4455;\n",
              "      fill: #D2E3FC;\n",
              "    }\n",
              "\n",
              "    [theme=dark] .colab-df-convert:hover {\n",
              "      background-color: #434B5C;\n",
              "      box-shadow: 0px 1px 3px 1px rgba(0, 0, 0, 0.15);\n",
              "      filter: drop-shadow(0px 1px 2px rgba(0, 0, 0, 0.3));\n",
              "      fill: #FFFFFF;\n",
              "    }\n",
              "  </style>\n",
              "\n",
              "      <script>\n",
              "        const buttonEl =\n",
              "          document.querySelector('#df-2687f121-6a35-4f25-a389-3ffdd5240c47 button.colab-df-convert');\n",
              "        buttonEl.style.display =\n",
              "          google.colab.kernel.accessAllowed ? 'block' : 'none';\n",
              "\n",
              "        async function convertToInteractive(key) {\n",
              "          const element = document.querySelector('#df-2687f121-6a35-4f25-a389-3ffdd5240c47');\n",
              "          const dataTable =\n",
              "            await google.colab.kernel.invokeFunction('convertToInteractive',\n",
              "                                                     [key], {});\n",
              "          if (!dataTable) return;\n",
              "\n",
              "          const docLinkHtml = 'Like what you see? Visit the ' +\n",
              "            '<a target=\"_blank\" href=https://colab.research.google.com/notebooks/data_table.ipynb>data table notebook</a>'\n",
              "            + ' to learn more about interactive tables.';\n",
              "          element.innerHTML = '';\n",
              "          dataTable['output_type'] = 'display_data';\n",
              "          await google.colab.output.renderOutput(dataTable, element);\n",
              "          const docLink = document.createElement('div');\n",
              "          docLink.innerHTML = docLinkHtml;\n",
              "          element.appendChild(docLink);\n",
              "        }\n",
              "      </script>\n",
              "    </div>\n",
              "  </div>\n",
              "  "
            ]
          },
          "metadata": {},
          "execution_count": 18
        }
      ],
      "source": [
        "# todo: sample(1)으로 샘플하나 관찰하기\n",
        "# class 약자인 c로 데이터 하나 체크\n",
        "c=train_df.groupby(187,group_keys=False).apply(lambda train_df : train_df.sample(1)) \n",
        "c"
      ]
    },
    {
      "cell_type": "code",
      "execution_count": 19,
      "metadata": {
        "id": "5u7YKYmRzijJ",
        "colab": {
          "base_uri": "https://localhost:8080/",
          "height": 282
        },
        "outputId": "d9bc773e-b724-4c7a-e5a5-b1248e64c909"
      },
      "outputs": [
        {
          "output_type": "execute_result",
          "data": {
            "text/plain": [
              "[<matplotlib.lines.Line2D at 0x7fa67b378cd0>]"
            ]
          },
          "metadata": {},
          "execution_count": 19
        },
        {
          "output_type": "display_data",
          "data": {
            "text/plain": [
              "<Figure size 432x288 with 1 Axes>"
            ],
            "image/png": "[encoded data removed]"
          },
          "metadata": {
            "needs_background": "light"
          }
        }
      ],
      "source": [
        "plt.plot(c.iloc[0,:186])"
      ]
    },
    {
      "cell_type": "code",
      "execution_count": 20,
      "metadata": {
        "id": "R0KHV8xOVIQt",
        "colab": {
          "base_uri": "https://localhost:8080/",
          "height": 282
        },
        "outputId": "ef903ac4-2d85-4c9c-c04b-f45313293745"
      },
      "outputs": [
        {
          "output_type": "execute_result",
          "data": {
            "text/plain": [
              "[<matplotlib.lines.Line2D at 0x7fa67ad8ef50>]"
            ]
          },
          "metadata": {},
          "execution_count": 20
        },
        {
          "output_type": "display_data",
          "data": {
            "text/plain": [
              "<Figure size 432x288 with 1 Axes>"
            ],
            "image/png": "[encoded data removed]"
          },
          "metadata": {
            "needs_background": "light"
          }
        }
      ],
      "source": [
        "# todo: train_df.loc[train_df[187]==class_number_tmp]를 plot 해보세요\n",
        "class_number_tmp = 0\n",
        "img = train_df.loc[train_df[187]==class_number_tmp]\n",
        "\n",
        "plt.plot(img[2])"
      ]
    },
    {
      "cell_type": "code",
      "execution_count": 20,
      "metadata": {
        "id": "W9A4zvsjVVRs"
      },
      "outputs": [],
      "source": [
        ""
      ]
    },
    {
      "cell_type": "code",
      "execution_count": 21,
      "metadata": {
        "id": "83vKL4XJVPg8",
        "colab": {
          "base_uri": "https://localhost:8080/",
          "height": 282
        },
        "outputId": "5818f175-00c5-408a-9bc5-23add86eabec"
      },
      "outputs": [
        {
          "output_type": "execute_result",
          "data": {
            "text/plain": [
              "[<matplotlib.lines.Line2D at 0x7fa67ad08790>]"
            ]
          },
          "metadata": {},
          "execution_count": 21
        },
        {
          "output_type": "display_data",
          "data": {
            "text/plain": [
              "<Figure size 432x288 with 1 Axes>"
            ],
            "image/png": "[encoded data removed]"
          },
          "metadata": {
            "needs_background": "light"
          }
        }
      ],
      "source": [
        "# todo: 조금 다르게, train_df.loc[train_df[187]==class_number_tmp].values를 plot\n",
        "class_number_tmp = 0\n",
        "img = train_df.loc[train_df[187]==class_number_tmp].values\n",
        "\n",
        "plt.plot(img[2])"
      ]
    },
    {
      "cell_type": "code",
      "execution_count": 21,
      "metadata": {
        "id": "XEIiAaaUVXbC"
      },
      "outputs": [],
      "source": [
        ""
      ]
    },
    {
      "cell_type": "code",
      "execution_count": 22,
      "metadata": {
        "id": "jK3E7PeJ66FW",
        "colab": {
          "base_uri": "https://localhost:8080/",
          "height": 282
        },
        "outputId": "0d94316f-34dc-4649-db0c-6138b11dad12"
      },
      "outputs": [
        {
          "output_type": "execute_result",
          "data": {
            "text/plain": [
              "[<matplotlib.lines.Line2D at 0x7fa67acf4f50>]"
            ]
          },
          "metadata": {},
          "execution_count": 22
        },
        {
          "output_type": "display_data",
          "data": {
            "text/plain": [
              "<Figure size 432x288 with 1 Axes>"
            ],
            "image/png": "[encoded data removed]"
          },
          "metadata": {
            "needs_background": "light"
          }
        }
      ],
      "source": [
        "min_ = 5\n",
        "size = 130\n",
        "img_tmp=img[0,min_: size]\n",
        "\n",
        "plt.plot(img_tmp)"
      ]
    },
    {
      "cell_type": "code",
      "execution_count": 23,
      "metadata": {
        "id": "Ix65qrIAVaQe"
      },
      "outputs": [],
      "source": [
        "# todo: img.flatten 선언하고, plot 해보세요\n"
      ]
    },
    {
      "cell_type": "code",
      "execution_count": 24,
      "metadata": {
        "id": "NUuofpJhHye8",
        "colab": {
          "base_uri": "https://localhost:8080/",
          "height": 282
        },
        "outputId": "3206718d-5e13-4d29-fcaa-dc1dc0c12140"
      },
      "outputs": [
        {
          "output_type": "execute_result",
          "data": {
            "text/plain": [
              "[<matplotlib.lines.Line2D at 0x7fa67ac64ed0>]"
            ]
          },
          "metadata": {},
          "execution_count": 24
        },
        {
          "output_type": "display_data",
          "data": {
            "text/plain": [
              "<Figure size 432x288 with 1 Axes>"
            ],
            "image/png": "[encoded data removed]"
          },
          "metadata": {
            "needs_background": "light"
          }
        }
      ],
      "source": [
        "img_flatten=img.flatten()\n",
        "plt.plot(img_flatten[:500])"
      ]
    },
    {
      "cell_type": "code",
      "execution_count": 25,
      "metadata": {
        "id": "3kcaHrZ19opv"
      },
      "outputs": [],
      "source": [
        "# hist를 통해서 여러개 신호를 겹쳐서 살펴보겠습니다! size = plot 할 신호의 길이"
      ]
    },
    {
      "cell_type": "code",
      "execution_count": 27,
      "metadata": {
        "id": "mrLloU9-zijK",
        "colab": {
          "base_uri": "https://localhost:8080/",
          "height": 286
        },
        "outputId": "305f00fa-e0eb-455b-bfe2-4ce9b3504fff"
      },
      "outputs": [
        {
          "output_type": "stream",
          "name": "stdout",
          "text": [
            "class_number, np.shape(img) 0 (20000, 65)\n"
          ]
        },
        {
          "output_type": "display_data",
          "data": {
            "text/plain": [
              "<Figure size 432x288 with 1 Axes>"
            ],
            "image/png": "[encoded data removed]"
          },
          "metadata": {
            "needs_background": "light"
          }
        }
      ],
      "source": [
        "def plot_hist(class_number,size,min_,bins):\n",
        "    img = train_df.loc[train_df[187]==class_number].values\n",
        "    img = img[:,min_:size] # 5에서 70까지라, 65가 되기도함\n",
        "    print('class_number, np.shape(img)', class_number, np.shape(img))\n",
        "\n",
        "    # todo: hist2d에 들어갈 한데이터인 '이미지의 flatten' 모습\n",
        "    img_flatten = img.flatten()\n",
        "\n",
        "    final1 = np.arange(min_, size)\n",
        "\n",
        "    for i in range(img.shape[0] - 1):\n",
        "      tempo1 = np.arange(min_, size)\n",
        "      final1 = np.concatenate((final1, tempo1), axis=None)\n",
        "\n",
        "    # todo: hist2d에 대해 확인하고 적용해보겠습니다.\n",
        "    # x의 값은 첫 번째 차원을 따라 히스토그램 화되고 y의 값은 두 번째 차원을 따라 히스토그램화됩니다.\n",
        "    plt.hist2d(final1,img_flatten, bins=(bins,bins),cmap=plt.cm.jet)\n",
        "    plt.show()\n",
        "\n",
        "plot_hist(0,70,5,65) # 클래스번호, 사이즈, 최소값, x축 (time) 몇개씩 나눠서 볼까요"
      ]
    },
    {
      "cell_type": "markdown",
      "metadata": {
        "id": "_GprvcN7zijK"
      },
      "source": [
        "각 클래스별 신호 모양 차이를 한번 체크해보겠습니다!"
      ]
    },
    {
      "cell_type": "code",
      "execution_count": 28,
      "metadata": {
        "id": "2CAIzxW6zijK",
        "colab": {
          "base_uri": "https://localhost:8080/",
          "height": 282
        },
        "outputId": "b104c9df-de8a-4902-a391-5911e36517d8"
      },
      "outputs": [
        {
          "output_type": "execute_result",
          "data": {
            "text/plain": [
              "[<matplotlib.lines.Line2D at 0x7fa67ab44f90>]"
            ]
          },
          "metadata": {},
          "execution_count": 28
        },
        {
          "output_type": "display_data",
          "data": {
            "text/plain": [
              "<Figure size 432x288 with 1 Axes>"
            ],
            "image/png": "[encoded data removed]"
          },
          "metadata": {
            "needs_background": "light"
          }
        }
      ],
      "source": [
        "plt.plot(c.iloc[1,:186])"
      ]
    },
    {
      "cell_type": "code",
      "execution_count": 29,
      "metadata": {
        "id": "7w2Yu7mbzijL",
        "colab": {
          "base_uri": "https://localhost:8080/",
          "height": 286
        },
        "outputId": "56368246-f07d-4fb8-ce47-eefae901ed85"
      },
      "outputs": [
        {
          "output_type": "stream",
          "name": "stdout",
          "text": [
            "class_number, np.shape(img) 1 (20000, 45)\n"
          ]
        },
        {
          "output_type": "display_data",
          "data": {
            "text/plain": [
              "<Figure size 432x288 with 1 Axes>"
            ],
            "image/png": "[encoded data removed]"
          },
          "metadata": {
            "needs_background": "light"
          }
        }
      ],
      "source": [
        "plot_hist(1,50,5,45)"
      ]
    },
    {
      "cell_type": "code",
      "execution_count": 30,
      "metadata": {
        "id": "ZtYlLnBvzijL",
        "colab": {
          "base_uri": "https://localhost:8080/",
          "height": 282
        },
        "outputId": "9396aa0f-118a-4644-aa8b-d7328da3ba5f"
      },
      "outputs": [
        {
          "output_type": "execute_result",
          "data": {
            "text/plain": [
              "[<matplotlib.lines.Line2D at 0x7fa67aaacd50>]"
            ]
          },
          "metadata": {},
          "execution_count": 30
        },
        {
          "output_type": "display_data",
          "data": {
            "text/plain": [
              "<Figure size 432x288 with 1 Axes>"
            ],
            "image/png": "[encoded data removed]"
          },
          "metadata": {
            "needs_background": "light"
          }
        }
      ],
      "source": [
        "plt.plot(c.iloc[2,:186])"
      ]
    },
    {
      "cell_type": "code",
      "execution_count": 31,
      "metadata": {
        "id": "kbYGesiNzijL",
        "colab": {
          "base_uri": "https://localhost:8080/",
          "height": 286
        },
        "outputId": "149f57df-04e8-446a-f75b-e4225d080f86"
      },
      "outputs": [
        {
          "output_type": "stream",
          "name": "stdout",
          "text": [
            "class_number, np.shape(img) 2 (20000, 45)\n"
          ]
        },
        {
          "output_type": "display_data",
          "data": {
            "text/plain": [
              "<Figure size 432x288 with 1 Axes>"
            ],
            "image/png": "[encoded data removed]"
          },
          "metadata": {
            "needs_background": "light"
          }
        }
      ],
      "source": [
        "plot_hist(2,50,5,45)"
      ]
    },
    {
      "cell_type": "code",
      "execution_count": 32,
      "metadata": {
        "id": "hPA_9alCzijM",
        "colab": {
          "base_uri": "https://localhost:8080/",
          "height": 282
        },
        "outputId": "759b97a7-4bc0-4e42-d044-18fdc2a7fb86"
      },
      "outputs": [
        {
          "output_type": "execute_result",
          "data": {
            "text/plain": [
              "[<matplotlib.lines.Line2D at 0x7fa67a98bcd0>]"
            ]
          },
          "metadata": {},
          "execution_count": 32
        },
        {
          "output_type": "display_data",
          "data": {
            "text/plain": [
              "<Figure size 432x288 with 1 Axes>"
            ],
            "image/png": "[encoded data removed]"
          },
          "metadata": {
            "needs_background": "light"
          }
        }
      ],
      "source": [
        "plt.plot(c.iloc[3,:186])"
      ]
    },
    {
      "cell_type": "code",
      "execution_count": 33,
      "metadata": {
        "id": "mqWxGB4vzijM",
        "colab": {
          "base_uri": "https://localhost:8080/",
          "height": 286
        },
        "outputId": "914fea62-01e2-438e-b34d-69bb5ebfa15b"
      },
      "outputs": [
        {
          "output_type": "stream",
          "name": "stdout",
          "text": [
            "class_number, np.shape(img) 3 (20000, 45)\n"
          ]
        },
        {
          "output_type": "display_data",
          "data": {
            "text/plain": [
              "<Figure size 432x288 with 1 Axes>"
            ],
            "image/png": "[encoded data removed]"
          },
          "metadata": {
            "needs_background": "light"
          }
        }
      ],
      "source": [
        "plot_hist(3,60,15,45)"
      ]
    },
    {
      "cell_type": "code",
      "execution_count": 34,
      "metadata": {
        "id": "JiHIMOaXzijM",
        "colab": {
          "base_uri": "https://localhost:8080/",
          "height": 282
        },
        "outputId": "7644d481-cd98-412f-fe75-df0612d1d661"
      },
      "outputs": [
        {
          "output_type": "execute_result",
          "data": {
            "text/plain": [
              "[<matplotlib.lines.Line2D at 0x7fa67b398290>]"
            ]
          },
          "metadata": {},
          "execution_count": 34
        },
        {
          "output_type": "display_data",
          "data": {
            "text/plain": [
              "<Figure size 432x288 with 1 Axes>"
            ],
            "image/png": "[encoded data removed]"
          },
          "metadata": {
            "needs_background": "light"
          }
        }
      ],
      "source": [
        "plt.plot(c.iloc[4,:186])"
      ]
    },
    {
      "cell_type": "code",
      "execution_count": 35,
      "metadata": {
        "id": "RhSAJm-EzijO",
        "colab": {
          "base_uri": "https://localhost:8080/",
          "height": 286
        },
        "outputId": "b89ad1d5-db45-4245-ae02-6eb3b01eea5c"
      },
      "outputs": [
        {
          "output_type": "stream",
          "name": "stdout",
          "text": [
            "class_number, np.shape(img) 4 (20000, 35)\n"
          ]
        },
        {
          "output_type": "display_data",
          "data": {
            "text/plain": [
              "<Figure size 432x288 with 1 Axes>"
            ],
            "image/png": "[encoded data removed]"
          },
          "metadata": {
            "needs_background": "light"
          }
        }
      ],
      "source": [
        "plot_hist(4,50,15,35)"
      ]
    }
  ],
  "metadata": {
    "colab": {
      "collapsed_sections": [],
      "name": "[실습]_시계열_데이터_부정맥.ipynb",
      "provenance": []
    },
    "kernelspec": {
      "display_name": "Python 3",
      "language": "python",
      "name": "python3"
    },
    "language_info": {
      "codemirror_mode": {
        "name": "ipython",
        "version": 3
      },
      "file_extension": ".py",
      "mimetype": "text/x-python",
      "name": "python",
      "nbconvert_exporter": "python",
      "pygments_lexer": "ipython3",
      "version": "3.8.6"
    }
  },
  "nbformat": 4,
  "nbformat_minor": 0
}