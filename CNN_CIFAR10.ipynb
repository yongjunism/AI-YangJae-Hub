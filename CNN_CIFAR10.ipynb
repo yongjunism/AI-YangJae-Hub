{
  "nbformat": 4,
  "nbformat_minor": 0,
  "metadata": {
    "colab": {
      "name": "CNN-CIFAR10",
      "provenance": []
    },
    "kernelspec": {
      "name": "python3",
      "display_name": "Python 3"
    },
    "language_info": {
      "name": "python"
    }
  },
  "cells": [
    {
      "cell_type": "code",
      "execution_count": null,
      "metadata": {
        "id": "7Hrpu9jRJKEf"
      },
      "outputs": [],
      "source": [
        "import tensorflow as tf\n",
        "import numpy as np\n",
        "from tensorflow.keras.utils import to_categorical\n",
        "from tensorflow.keras import Sequential, Input\n",
        "from tensorflow.keras.optimizers import SGD\n",
        "from tensorflow.keras.layers import Conv2D, MaxPool2D, GlobalAveragePooling2D, Dense, Dropout"
      ]
    },
    {
      "cell_type": "code",
      "source": [
        "def load_cifar10():\n",
        "  (train_X, train_y), (test_X, test_y) = tf.keras.datasets.cifar10.load_data()\n",
        "\n",
        "  train_X = train_X / 255.0\n",
        "  test_X = test_X / 255.0\n",
        "\n",
        "  train_y = to_categorical(train_y, num_classes=10)\n",
        "  test_y = to_categorical(test_y, num_classes=10)\n",
        "  \n",
        "  return train_X, train_y, test_X, test_y"
      ],
      "metadata": {
        "id": "rNUZNm9MJLjl"
      },
      "execution_count": null,
      "outputs": []
    },
    {
      "cell_type": "code",
      "source": [
        "def build_cnn_model(num_classes, input_shape):\n",
        "  model = Sequential()\n",
        "\n",
        "  model.add(Input(shape=input_shape))\n",
        "\n",
        "  model.add( Conv2D(16, (3,3), padding='same', activation='relu'))\n",
        "  model.add( Conv2D(16, (3,3), padding='same', activation='relu'))\n",
        "  model.add(MaxPool2D())\n",
        "\n",
        "  model.add( Conv2D(16, (3,3), padding='same', activation='relu'))\n",
        "  model.add( Conv2D(16, (3,3), padding='same', activation='relu'))\n",
        "  model.add(MaxPool2D())\n",
        "  model.add(GlobalAveragePooling2D())\n",
        "\n",
        "  model.add(Dense(100, activation='relu'))\n",
        "  model.add(Dropout(0.5))\n",
        "  model.add(Dense(num_classes, activation='softmax'))\n",
        "\n",
        "  return model"
      ],
      "metadata": {
        "id": "T8kTEMH3kPSq"
      },
      "execution_count": null,
      "outputs": []
    },
    {
      "cell_type": "markdown",
      "source": [
        ""
      ],
      "metadata": {
        "id": "0uUweE3FJNZt"
      }
    },
    {
      "cell_type": "code",
      "source": [
        "def main(Model=None, epochs=30):\n",
        "  train_X, train_y, test_X, test_y = load_cifar10()\n",
        "  print('train_y[0]', train_y[0])\n",
        "\n",
        "  model = build_cnn_model(len(train_y[0]), train_X[0].shape)\n",
        "\n",
        "  optimizer = SGD(learning_rate=1e-2, momentum=0.9, nesterov=True)\n",
        "  model.compile(optimizer=optimizer, loss='categorical_crossentropy')\n",
        "\n",
        "  hist = model.fit(train_X, train_y, batch_size=32, epochs=epochs, validation_split=0.2, shuffle=True)\n",
        "  \n",
        "  pred_y = model.predict(test_X)\n",
        "\n",
        "  top1_accuracy = get_topk_accuracy(test_y, pred_y)\n",
        "  top3_accuracy = get_topk_accuracy(test_y, pred_y, k=3)\n",
        "\n",
        "main()\n"
      ],
      "metadata": {
        "colab": {
          "base_uri": "https://localhost:8080/"
        },
        "id": "UBmo-RjRJMy2",
        "outputId": "15b73f23-b44e-416e-a33b-fb5f5106faff"
      },
      "execution_count": null,
      "outputs": [
        {
          "output_type": "stream",
          "name": "stdout",
          "text": [
            "train_y[0] [0. 0. 0. 0. 0. 0. 1. 0. 0. 0.]\n",
            "Epoch 1/30\n",
            "1250/1250 [==============================] - 61s 48ms/step - loss: 2.1229 - val_loss: 1.8745\n",
            "Epoch 2/30\n",
            "1250/1250 [==============================] - 59s 47ms/step - loss: 1.8431 - val_loss: 1.6746\n",
            "Epoch 3/30\n",
            "1250/1250 [==============================] - 59s 47ms/step - loss: 1.6694 - val_loss: 1.5231\n",
            "Epoch 4/30\n",
            "1250/1250 [==============================] - 60s 48ms/step - loss: 1.5537 - val_loss: 1.5092\n",
            "Epoch 5/30\n",
            "1250/1250 [==============================] - 60s 48ms/step - loss: 1.4614 - val_loss: 1.3315\n",
            "Epoch 6/30\n",
            "1250/1250 [==============================] - 60s 48ms/step - loss: 1.3868 - val_loss: 1.3136\n",
            "Epoch 7/30\n",
            "1250/1250 [==============================] - 59s 47ms/step - loss: 1.3299 - val_loss: 1.2811\n",
            "Epoch 8/30\n",
            "1250/1250 [==============================] - 59s 47ms/step - loss: 1.2917 - val_loss: 1.1948\n",
            "Epoch 9/30\n",
            "1250/1250 [==============================] - 58s 46ms/step - loss: 1.2479 - val_loss: 1.1473\n",
            "Epoch 10/30\n",
            "1250/1250 [==============================] - 57s 46ms/step - loss: 1.2240 - val_loss: 1.1594\n",
            "Epoch 11/30\n",
            "1250/1250 [==============================] - 58s 46ms/step - loss: 1.1962 - val_loss: 1.0943\n",
            "Epoch 12/30\n",
            "1250/1250 [==============================] - 58s 47ms/step - loss: 1.1763 - val_loss: 1.0943\n",
            "Epoch 13/30\n",
            "1250/1250 [==============================] - 58s 46ms/step - loss: 1.1601 - val_loss: 1.0725\n",
            "Epoch 14/30\n",
            "1250/1250 [==============================] - 58s 46ms/step - loss: 1.1451 - val_loss: 1.0711\n",
            "Epoch 15/30\n",
            "1250/1250 [==============================] - 58s 46ms/step - loss: 1.1372 - val_loss: 1.0345\n",
            "Epoch 16/30\n",
            "1250/1250 [==============================] - 58s 46ms/step - loss: 1.1208 - val_loss: 1.0792\n",
            "Epoch 17/30\n",
            "1250/1250 [==============================] - 58s 46ms/step - loss: 1.1097 - val_loss: 1.0381\n",
            "Epoch 18/30\n",
            "1250/1250 [==============================] - 58s 46ms/step - loss: 1.0964 - val_loss: 1.1021\n",
            "Epoch 19/30\n",
            "1250/1250 [==============================] - 57s 46ms/step - loss: 1.0904 - val_loss: 1.0445\n",
            "Epoch 20/30\n",
            "1250/1250 [==============================] - 58s 46ms/step - loss: 1.0855 - val_loss: 1.0112\n",
            "Epoch 21/30\n",
            "1250/1250 [==============================] - 57s 46ms/step - loss: 1.0746 - val_loss: 1.0392\n",
            "Epoch 22/30\n",
            "1250/1250 [==============================] - 57s 45ms/step - loss: 1.0724 - val_loss: 1.0429\n",
            "Epoch 23/30\n",
            "1250/1250 [==============================] - 57s 45ms/step - loss: 1.0650 - val_loss: 1.0108\n",
            "Epoch 24/30\n",
            "1250/1250 [==============================] - 57s 45ms/step - loss: 1.0589 - val_loss: 1.0782\n",
            "Epoch 25/30\n",
            "1250/1250 [==============================] - 57s 45ms/step - loss: 1.0501 - val_loss: 1.0359\n",
            "Epoch 26/30\n",
            "1250/1250 [==============================] - 57s 46ms/step - loss: 1.0439 - val_loss: 0.9851\n",
            "Epoch 27/30\n",
            "1250/1250 [==============================] - 57s 45ms/step - loss: 1.0386 - val_loss: 1.0070\n",
            "Epoch 28/30\n",
            "1250/1250 [==============================] - 58s 46ms/step - loss: 1.0339 - val_loss: 1.0728\n",
            "Epoch 29/30\n",
            "1250/1250 [==============================] - 57s 46ms/step - loss: 1.0306 - val_loss: 1.0225\n",
            "Epoch 30/30\n",
            "1250/1250 [==============================] - 57s 46ms/step - loss: 1.0252 - val_loss: 1.0293\n"
          ]
        }
      ]
    },
    {
      "cell_type": "code",
      "source": [
        "def get_topk_accuracy(test_y, pred_y, k=1):\n",
        "  true_labels = np.argmax(test_y, axis=1)\n",
        "  pred_labels = np.argsort(pred_y, axis=1)\n",
        "  correct = 0\n",
        "  for true_label, pred_label in zip(true_labels, pred_labels):\n",
        "    cur_preds = pred_labels[-k:]\n",
        "\n",
        "    if true_label in cur_preds:\n",
        "      correct += 1"
      ],
      "metadata": {
        "id": "nk2dhWnopne6"
      },
      "execution_count": null,
      "outputs": []
    }
  ]
}