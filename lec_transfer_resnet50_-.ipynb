{
  "nbformat": 4,
  "nbformat_minor": 0,
  "metadata": {
    "colab": {
      "name": "lec_transfer_resnet50_lv5-정답.ipynb",
      "provenance": [],
      "collapsed_sections": []
    },
    "kernelspec": {
      "name": "python3",
      "display_name": "Python 3"
    },
    "language_info": {
      "name": "python"
    }
  },
  "cells": [
    {
      "cell_type": "code",
      "source": [
        "import pandas as pd"
      ],
      "metadata": {
        "id": "7CaPX2F3krJM"
      },
      "execution_count": null,
      "outputs": []
    },
    {
      "cell_type": "code",
      "source": [
        "import warnings, logging, os\n",
        "logging.disable(logging.WARNING)\n",
        "os.environ['TF_CPP_MIN_LOG_LEVEL'] = '2'\n",
        "\n",
        "import tensorflow as tf\n",
        "from tensorflow.keras import layers, Sequential\n",
        "from tensorflow.keras.optimizers import Adam\n",
        "from tensorflow.keras.applications.resnet50 import ResNet50\n",
        "from tensorflow import keras\n",
        "import numpy as np\n",
        "from tensorflow.keras.utils import to_categorical\n",
        "\n",
        "'''from preprocess import *'''\n",
        "\n",
        "def load_transfer_model():\n",
        "    # ImageNet으로 훈련된 ResNet-50 모델을 불러옵니다.\n",
        "    # 가장 마지막의 classification layer는 포함하지 않습니다.\n",
        "\n",
        "    base_model = ResNet50(input_shape=(84, 84, 3), include_top=False, weights='imagenet') # input_shape를 바꿔야 함, 예상모양이 발견모양과 호환되지 않는다.\n",
        "    \n",
        "    # TODO: [지시사항 1번] 모델이 학습되지 않도록 설정하세요.\n",
        "    base_model.trainable = False\n",
        "    \n",
        "    # TODO: [지시사항 2번] 지시사항에 따라 layer를 추가하세요. ## UpSampling2D : 데이터의 행과 열을 각각 size[0]과 size[1]만큼 반복\n",
        "    # 아는 것 : transfer_model, sequential, upsampling2d, interpolation, dense, activation='softmax',base_model  , 모르는 것 : globalaveragepooling2d, size\n",
        "    transfer_model = Sequential([\n",
        "        layers.UpSampling2D(size=(3, 3), interpolation='bilinear'),\n",
        "        base_model,\n",
        "        layers.GlobalAveragePooling2D(),\n",
        "        layers.Dense(10, activation='softmax'),\n",
        "    ])\n",
        "  \n",
        "  #레이어 \"up_sampling2d_5\"의 입력 0이 레이어와 호환되지 않습니다: 예상 ndim=4, 발견 ndim=3. 전체 모양 수신: (500, 28, 28)\n",
        "  #수신된 호출 인수:\n",
        "     #• 입력=tf.Tensor(모양=(500, 28, 28), dtype=uint8)\n",
        "      #• 교육=참\n",
        "      #• 마스크=없음\n",
        "\n",
        "\n",
        "    return transfer_model\n",
        " # interpolation : 알려진 값 사이(중간)에 위치한 값을 추정\n",
        " # bilinear interpolation : 쌍선형 보간법(1차원에서의 선형보간법을 2차원으로 확장)\n",
        "\n",
        "'''class fashion_mnist:\n",
        "  def load_data():\n",
        "    return (x_train, y_train), (x_test, y_test)'''\n",
        "def main(transfer_model=None, epochs=3):\n",
        "    np.random.seed(81)\n",
        "    \n",
        "    #num_classes = 10\n",
        "#fashion_mnist : 인스턴스, load_data() : 함수의 별명 클래스 안에 미리 해놓은 함수는 메소드라고 부름\n",
        "    dataloader = keras.datasets.fashion_mnist\n",
        "\n",
        "    (x_train, y_train), (x_test, y_test) = dataloader.load_data() #ValueError: 압축을 풀기에 값이 충분하지 않습니다(예상 4개, 2개 있음)\n",
        "\n",
        "    # fashion_mnist를 왜 불러오고 싶었는지 : fashion_mnist가 눈에 더 잘 띄어서, 데이터셋 이름이라서\n",
        "    x_train, y_train, x_test, y_test = x_train[:5000], y_train[:5000], x_test[:100], y_test[:100]\n",
        "    x_train = x_train.reshape(-1, 28, 28, 1)\n",
        "    x_train2 = x_train.copy()\n",
        "    x_train3 = x_train.copy()\n",
        "    print(x_train2.shape)\n",
        "    one_hot = to_categorical(y_train)\n",
        "    print(one_hot)\n",
        "    #print(x)\n",
        "    #print(\"x_train2 :\" , x_train2)\n",
        "    x = np.block([x_train, x_train2, x_train3])\n",
        "    print(x.shape)\n",
        "    #print(x_train.shape)\n",
        "    #레이어 \"resnet50\"의 입력 0은 레이어와 호환되지 않습니다: 예상 모양=(없음, 96, 96, 3), 발견된 모양=(500, 84, 84, 1)\n",
        "    # 아는 것 : , 모르는 것 : 예상모양. 발견된 모양, resnet50\n",
        "    \n",
        "    if transfer_model is None:\n",
        "        transfer_model = load_transfer_model()\n",
        "    \n",
        "    # [지시사항 3번] 모델 학습을 위한 Optimizer, loss 함수, 평가 지표를 설정하세요.\n",
        "    optimizer = Adam(learning_rate=0.001)\n",
        "    transfer_model.compile(optimizer=optimizer, loss='categorical_crossentropy', metrics=['accuracy'])\n",
        "    #print(y_train.shape)\n",
        "    # 모델을 학습시킵니다.\n",
        "    hist = transfer_model.fit(x, one_hot, epochs=epochs, batch_size=500) # 아는 것 : hist, x_train, y_train, epochs, batch_size # 모르는 것 : transfer_model.fit, # fit(x,y)\n",
        "    \n",
        "    # 완성된 모델을 확인해봅니다.\n",
        "    print()\n",
        "    transfer_model.summary()\n",
        "    \n",
        "    # 테스트 데이터로 모델 성능을 확인합니다.\n",
        "    loss, accuracy = transfer_model.evaluate(x_test, y_test)\n",
        "    \n",
        "    print('\\n훈련된 모델의 테스트 정확도는 {:.3f}% 입니다.\\n'.format(accuracy * 100))\n",
        "    \n",
        "    return optimizer, hist\n",
        "\n",
        "main()"
      ],
      "metadata": {
        "colab": {
          "base_uri": "https://localhost:8080/"
        },
        "id": "NDIIJXXt_BrB",
        "outputId": "9508d929-8e42-46f8-f69e-fbe2d8ff6116"
      },
      "execution_count": null,
      "outputs": [
        {
          "output_type": "stream",
          "name": "stdout",
          "text": [
            "(5000, 28, 28, 1)\n",
            "[[0. 0. 0. ... 0. 0. 1.]\n",
            " [1. 0. 0. ... 0. 0. 0.]\n",
            " [1. 0. 0. ... 0. 0. 0.]\n",
            " ...\n",
            " [0. 0. 0. ... 0. 0. 0.]\n",
            " [0. 0. 0. ... 0. 1. 0.]\n",
            " [0. 0. 0. ... 0. 0. 0.]]\n",
            "(5000, 28, 28, 3)\n",
            "Downloading data from https://storage.googleapis.com/tensorflow/keras-applications/resnet/resnet50_weights_tf_dim_ordering_tf_kernels_notop.h5\n",
            "94773248/94765736 [==============================] - 1s 0us/step\n",
            "94781440/94765736 [==============================] - 1s 0us/step\n",
            "Epoch 1/3\n",
            " 2/10 [=====>........................] - ETA: 1:45 - loss: 3.4343 - accuracy: 0.1210"
          ]
        }
      ]
    }
  ]
}